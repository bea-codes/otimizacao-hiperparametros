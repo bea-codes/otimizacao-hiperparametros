{
  "nbformat": 4,
  "nbformat_minor": 0,
  "metadata": {
    "colab": {
      "provenance": [],
      "gpuType": "T4",
      "collapsed_sections": [
        "pCISbMPT9D3R",
        "yt-4dnhh5gAl",
        "zIzEKPd4qmIl",
        "MmHmrDSWqr0x",
        "NR0qGgWptjsX",
        "mMbwKwsHbS-a",
        "31Aggk4M8jqm"
      ],
      "include_colab_link": true
    },
    "kernelspec": {
      "name": "python3",
      "display_name": "Python 3"
    },
    "language_info": {
      "name": "python"
    },
    "accelerator": "GPU"
  },
  "cells": [
    {
      "cell_type": "markdown",
      "metadata": {
        "id": "view-in-github",
        "colab_type": "text"
      },
      "source": [
        "<a href=\"https://colab.research.google.com/github/bea-codes/otimizacao-hiperparametros/blob/main/Otimiza%C3%A7%C3%A3o_de_hiperpar%C3%A2metros_de_redes_MLP.ipynb\" target=\"_parent\"><img src=\"https://colab.research.google.com/assets/colab-badge.svg\" alt=\"Open In Colab\"/></a>"
      ]
    },
    {
      "cell_type": "markdown",
      "source": [
        "# Atividade Otimização de Hiperparâmetros\n",
        "### Disciplina: Inteligência Artificial Aplicada\n",
        "---\n",
        "Dupla: Beatriz Barbosa e Davi Galdivo"
      ],
      "metadata": {
        "id": "BMrqWKUArNOd"
      }
    },
    {
      "cell_type": "markdown",
      "source": [
        "# Código"
      ],
      "metadata": {
        "id": "oGUvD4DthuN7"
      }
    },
    {
      "cell_type": "markdown",
      "source": [
        "## Setup"
      ],
      "metadata": {
        "id": "pCISbMPT9D3R"
      }
    },
    {
      "cell_type": "code",
      "source": [
        "import tensorflow as tf\n",
        "from tensorflow import keras\n",
        "import pandas as pd\n",
        "import numpy as np\n",
        "from sklearn.model_selection import train_test_split"
      ],
      "metadata": {
        "id": "pxbVQQe0hvNN"
      },
      "execution_count": 144,
      "outputs": []
    },
    {
      "cell_type": "markdown",
      "source": [
        "## Modelo"
      ],
      "metadata": {
        "id": "R6Ctt5FfjagH"
      }
    },
    {
      "cell_type": "markdown",
      "source": [
        "### New datase"
      ],
      "metadata": {
        "id": "yt-4dnhh5gAl"
      }
    },
    {
      "cell_type": "code",
      "source": [
        "dataset = keras.datasets.fashion_mnist\n",
        "(train_images, train_labels), (test_images, test_labels) = dataset.load_data()"
      ],
      "metadata": {
        "id": "4KmZW7X85iO_"
      },
      "execution_count": 145,
      "outputs": []
    },
    {
      "cell_type": "code",
      "source": [
        "train_images = train_images / 255.0\n",
        "\n",
        "test_images = test_images / 255.0"
      ],
      "metadata": {
        "id": "agWXzjAS8EVc"
      },
      "execution_count": 146,
      "outputs": []
    },
    {
      "cell_type": "code",
      "source": [
        "class_names = ['T-shirt/top', 'Trouser', 'Pullover', 'Dress', 'Coat',\n",
        "               'Sandal', 'Shirt', 'Sneaker', 'Bag', 'Ankle boot']\n"
      ],
      "metadata": {
        "id": "A_-6UvXQ66KG"
      },
      "execution_count": 148,
      "outputs": []
    },
    {
      "cell_type": "markdown",
      "source": [
        "### Hiperparâmetros"
      ],
      "metadata": {
        "id": "qRjvAavvkW4o"
      }
    },
    {
      "cell_type": "code",
      "source": [
        "# Número de camadas escondidas -> [1,5,7,10]\n",
        "num_hidden_layers = \"1\" # @param [1,5,7,10]\n",
        "num_hidden_layers = int(num_hidden_layers)\n",
        "# Número de neurônios por camada escondida -> [25, 50, 100, 200, 500]\n",
        "num_unit_per_layer = \"500\" # @param [25,50,100,200,500]\n",
        "num_unit_per_layer = int(num_unit_per_layer)\n",
        "\n",
        "# Epochs\n",
        "num_epochs = 10\n",
        "\n",
        "# Batch size\n",
        "batch_size = 5"
      ],
      "metadata": {
        "id": "XQIO_w4okYfQ"
      },
      "execution_count": 221,
      "outputs": []
    },
    {
      "cell_type": "markdown",
      "source": [
        "### Criação"
      ],
      "metadata": {
        "id": "zIzEKPd4qmIl"
      }
    },
    {
      "cell_type": "code",
      "source": [
        "# Função cria modelo de acordo com os argumentos\n",
        "def create_model(num_hidden_layers, num_unit_per_layer):\n",
        "  model = keras.Sequential(name=\"Modelo\")\n",
        "  # model.add(keras.Input(shape=(16,))) # Não vai aparecer no model.summary().\n",
        "  model.add(keras.layers.Flatten(input_shape=(28,28)))\n",
        "\n",
        "  for n in range(num_hidden_layers):\n",
        "    model.add(keras.layers.Dense(units=num_unit_per_layer, activation='relu'))\n",
        "\n",
        "  model.add(keras.layers.Dense(10, activation='softmax'))\n",
        "\n",
        "  return model"
      ],
      "metadata": {
        "id": "dj_ENY5Ejc43"
      },
      "execution_count": 208,
      "outputs": []
    },
    {
      "cell_type": "code",
      "source": [
        "model = create_model(num_hidden_layers, num_unit_per_layer)\n",
        "model.summary()"
      ],
      "metadata": {
        "id": "D72Pffdxl-UK",
        "colab": {
          "base_uri": "https://localhost:8080/"
        },
        "outputId": "f0730475-a998-4b9d-d555-e3df40bebd69"
      },
      "execution_count": 222,
      "outputs": [
        {
          "output_type": "stream",
          "name": "stdout",
          "text": [
            "Model: \"Modelo\"\n",
            "_________________________________________________________________\n",
            " Layer (type)                Output Shape              Param #   \n",
            "=================================================================\n",
            " flatten_28 (Flatten)        (None, 784)               0         \n",
            "                                                                 \n",
            " dense_261 (Dense)           (None, 500)               392500    \n",
            "                                                                 \n",
            " dense_262 (Dense)           (None, 10)                5010      \n",
            "                                                                 \n",
            "=================================================================\n",
            "Total params: 397510 (1.52 MB)\n",
            "Trainable params: 397510 (1.52 MB)\n",
            "Non-trainable params: 0 (0.00 Byte)\n",
            "_________________________________________________________________\n"
          ]
        }
      ]
    },
    {
      "cell_type": "markdown",
      "source": [
        "### Compilando o modelo"
      ],
      "metadata": {
        "id": "MmHmrDSWqr0x"
      }
    },
    {
      "cell_type": "code",
      "source": [
        "model = create_model(num_hidden_layers, num_unit_per_layer)\n",
        "model.summary()"
      ],
      "metadata": {
        "colab": {
          "base_uri": "https://localhost:8080/"
        },
        "outputId": "a9f9b667-d7d4-40bc-c020-f817be8d3b4d",
        "id": "pi_sHqI9xHhJ"
      },
      "execution_count": 223,
      "outputs": [
        {
          "output_type": "stream",
          "name": "stdout",
          "text": [
            "Model: \"Modelo\"\n",
            "_________________________________________________________________\n",
            " Layer (type)                Output Shape              Param #   \n",
            "=================================================================\n",
            " flatten_29 (Flatten)        (None, 784)               0         \n",
            "                                                                 \n",
            " dense_263 (Dense)           (None, 500)               392500    \n",
            "                                                                 \n",
            " dense_264 (Dense)           (None, 10)                5010      \n",
            "                                                                 \n",
            "=================================================================\n",
            "Total params: 397510 (1.52 MB)\n",
            "Trainable params: 397510 (1.52 MB)\n",
            "Non-trainable params: 0 (0.00 Byte)\n",
            "_________________________________________________________________\n"
          ]
        }
      ]
    },
    {
      "cell_type": "code",
      "source": [
        "model.compile(optimizer='adam',\n",
        "              loss='sparse_categorical_crossentropy',\n",
        "              metrics=['accuracy'])\n"
      ],
      "metadata": {
        "id": "RU1kyPQCqtag"
      },
      "execution_count": 224,
      "outputs": []
    },
    {
      "cell_type": "markdown",
      "source": [
        "### Treinando o modelo"
      ],
      "metadata": {
        "id": "D27J0YTkrJ9Q"
      }
    },
    {
      "cell_type": "code",
      "source": [
        "earlystopping = keras.callbacks.EarlyStopping(monitor='loss', patience=3, verbose=1)"
      ],
      "metadata": {
        "id": "q0OHt_bsRnAB"
      },
      "execution_count": 225,
      "outputs": []
    },
    {
      "cell_type": "code",
      "source": [
        "model.fit(train_images, train_labels, epochs=num_epochs, callbacks=[earlystopping])"
      ],
      "metadata": {
        "id": "oX0SFMQ4rLWo"
      },
      "execution_count": null,
      "outputs": []
    },
    {
      "cell_type": "markdown",
      "source": [
        "### Predições"
      ],
      "metadata": {
        "id": "RJf44mW65cMO"
      }
    },
    {
      "cell_type": "code",
      "source": [
        "predictions = model.predict(test_images)"
      ],
      "metadata": {
        "colab": {
          "base_uri": "https://localhost:8080/"
        },
        "id": "R5BqzM__5eg-",
        "outputId": "21100e52-d149-4795-a1d6-25770ccb4984"
      },
      "execution_count": 227,
      "outputs": [
        {
          "output_type": "stream",
          "name": "stdout",
          "text": [
            "313/313 [==============================] - 1s 2ms/step\n"
          ]
        }
      ]
    },
    {
      "cell_type": "code",
      "source": [
        "print(test_images.shape)\n",
        "print(predictions.shape)\n"
      ],
      "metadata": {
        "colab": {
          "base_uri": "https://localhost:8080/"
        },
        "id": "asDHb77t55RJ",
        "outputId": "4ebdfc62-06bc-4f18-e2bd-dcd5783c49af"
      },
      "execution_count": 228,
      "outputs": [
        {
          "output_type": "stream",
          "name": "stdout",
          "text": [
            "(10000, 28, 28)\n",
            "(10000, 10)\n"
          ]
        }
      ]
    },
    {
      "cell_type": "code",
      "source": [
        "def exibir_predicoes(predictions, num):\n",
        "  for p in range(num):\n",
        "    predicao = np.argmax(predictions[p])\n",
        "    classe_real = test_labels[p]\n",
        "    print(f\"Predição do modelo: {class_names[predicao]}\\t|\\t Classe real: {class_names[classe_real]}\")"
      ],
      "metadata": {
        "id": "paqOLtPU9KiQ"
      },
      "execution_count": 229,
      "outputs": []
    },
    {
      "cell_type": "code",
      "source": [
        "exibir_predicoes(predictions, 15)"
      ],
      "metadata": {
        "colab": {
          "base_uri": "https://localhost:8080/"
        },
        "id": "3O4QhF9t9VqW",
        "outputId": "287574b9-091f-41ca-f07f-56fce2677b6e"
      },
      "execution_count": 230,
      "outputs": [
        {
          "output_type": "stream",
          "name": "stdout",
          "text": [
            "Predição do modelo: Ankle boot\t|\t Classe real: Ankle boot\n",
            "Predição do modelo: Pullover\t|\t Classe real: Pullover\n",
            "Predição do modelo: Trouser\t|\t Classe real: Trouser\n",
            "Predição do modelo: Trouser\t|\t Classe real: Trouser\n",
            "Predição do modelo: Shirt\t|\t Classe real: Shirt\n",
            "Predição do modelo: Trouser\t|\t Classe real: Trouser\n",
            "Predição do modelo: Coat\t|\t Classe real: Coat\n",
            "Predição do modelo: Shirt\t|\t Classe real: Shirt\n",
            "Predição do modelo: Sandal\t|\t Classe real: Sandal\n",
            "Predição do modelo: Sneaker\t|\t Classe real: Sneaker\n",
            "Predição do modelo: Coat\t|\t Classe real: Coat\n",
            "Predição do modelo: Sandal\t|\t Classe real: Sandal\n",
            "Predição do modelo: Sandal\t|\t Classe real: Sneaker\n",
            "Predição do modelo: Dress\t|\t Classe real: Dress\n",
            "Predição do modelo: Coat\t|\t Classe real: Coat\n"
          ]
        }
      ]
    },
    {
      "cell_type": "markdown",
      "source": [
        "# Tests\n"
      ],
      "metadata": {
        "id": "NR0qGgWptjsX"
      }
    },
    {
      "cell_type": "markdown",
      "source": [
        "## Download da base de dados"
      ],
      "metadata": {
        "id": "mMbwKwsHbS-a"
      }
    },
    {
      "cell_type": "code",
      "source": [
        "# Limpando o ambiente\n",
        "!rm -rf sample_data"
      ],
      "metadata": {
        "id": "LdBiat192hJC"
      },
      "execution_count": null,
      "outputs": []
    },
    {
      "cell_type": "code",
      "execution_count": null,
      "metadata": {
        "id": "-jQ577ZtbITa",
        "colab": {
          "base_uri": "https://localhost:8080/"
        },
        "outputId": "45bd37de-f2c9-4e3c-fcf6-818809114601"
      },
      "outputs": [
        {
          "output_type": "stream",
          "name": "stdout",
          "text": [
            "--2023-10-29 14:21:01--  https://archive.ics.uci.edu/static/public/111/zoo.zip\n",
            "Resolving archive.ics.uci.edu (archive.ics.uci.edu)... 128.195.10.252\n",
            "Connecting to archive.ics.uci.edu (archive.ics.uci.edu)|128.195.10.252|:443... connected.\n",
            "HTTP request sent, awaiting response... 200 OK\n",
            "Length: unspecified\n",
            "Saving to: ‘zoo.zip’\n",
            "\n",
            "\rzoo.zip                 [<=>                 ]       0  --.-KB/s               \rzoo.zip                 [ <=>                ]   2.44K  --.-KB/s    in 0s      \n",
            "\n",
            "2023-10-29 14:21:01 (999 MB/s) - ‘zoo.zip’ saved [2496]\n",
            "\n"
          ]
        }
      ],
      "source": [
        "!wget https://archive.ics.uci.edu/static/public/111/zoo.zip"
      ]
    },
    {
      "cell_type": "code",
      "source": [
        "!unzip zoo.zip -d database"
      ],
      "metadata": {
        "colab": {
          "base_uri": "https://localhost:8080/"
        },
        "id": "lLIWwsp_bgBs",
        "outputId": "0c12502a-3d1e-4243-9538-7be7eaceb8f0"
      },
      "execution_count": null,
      "outputs": [
        {
          "output_type": "stream",
          "name": "stdout",
          "text": [
            "Archive:  zoo.zip\n",
            "  inflating: database/Index          \n",
            "  inflating: database/zoo.data       \n",
            "  inflating: database/zoo.names      \n"
          ]
        }
      ]
    },
    {
      "cell_type": "code",
      "source": [
        "# Base original do UCI não tem o nome das colunas. Pegamos essa base já modificada\n",
        "# Com os nomes corretos de um repositório do Github pra facilitar o trabalho.\n",
        "\n",
        "!wget https://github.com/sharan91/zoo_classification/raw/master/zoo.csv"
      ],
      "metadata": {
        "id": "aMcsBPgfzkqj",
        "colab": {
          "base_uri": "https://localhost:8080/"
        },
        "outputId": "07429e69-6cba-4317-e57c-9f5ce6170920"
      },
      "execution_count": null,
      "outputs": [
        {
          "output_type": "stream",
          "name": "stdout",
          "text": [
            "--2023-10-29 14:21:01--  https://github.com/sharan91/zoo_classification/raw/master/zoo.csv\n",
            "Resolving github.com (github.com)... 140.82.112.3\n",
            "Connecting to github.com (github.com)|140.82.112.3|:443... connected.\n",
            "HTTP request sent, awaiting response... 302 Found\n",
            "Location: https://raw.githubusercontent.com/sharan91/zoo_classification/master/zoo.csv [following]\n",
            "--2023-10-29 14:21:02--  https://raw.githubusercontent.com/sharan91/zoo_classification/master/zoo.csv\n",
            "Resolving raw.githubusercontent.com (raw.githubusercontent.com)... 185.199.108.133, 185.199.109.133, 185.199.110.133, ...\n",
            "Connecting to raw.githubusercontent.com (raw.githubusercontent.com)|185.199.108.133|:443... connected.\n",
            "HTTP request sent, awaiting response... 200 OK\n",
            "Length: 4368 (4.3K) [text/plain]\n",
            "Saving to: ‘zoo.csv’\n",
            "\n",
            "zoo.csv             100%[===================>]   4.27K  --.-KB/s    in 0s      \n",
            "\n",
            "2023-10-29 14:21:02 (52.8 MB/s) - ‘zoo.csv’ saved [4368/4368]\n",
            "\n"
          ]
        }
      ]
    },
    {
      "cell_type": "markdown",
      "source": [
        "### Old database"
      ],
      "metadata": {
        "id": "31Aggk4M8jqm"
      }
    },
    {
      "cell_type": "code",
      "source": [
        "df = pd.read_csv('./zoo.csv')"
      ],
      "metadata": {
        "id": "2HRwGteUh0OE"
      },
      "execution_count": null,
      "outputs": []
    },
    {
      "cell_type": "code",
      "source": [
        "df.head()"
      ],
      "metadata": {
        "colab": {
          "base_uri": "https://localhost:8080/",
          "height": 206
        },
        "id": "eMdE4Ogj0SfT",
        "outputId": "d48727a1-0ad1-4dad-b048-274a4813d04c"
      },
      "execution_count": null,
      "outputs": [
        {
          "output_type": "execute_result",
          "data": {
            "text/plain": [
              "  animal_name  hair  feathers  eggs  milk  airborne  aquatic  predator  \\\n",
              "0    aardvark     1         0     0     1         0        0         1   \n",
              "1    antelope     1         0     0     1         0        0         0   \n",
              "2        bass     0         0     1     0         0        1         1   \n",
              "3        bear     1         0     0     1         0        0         1   \n",
              "4        boar     1         0     0     1         0        0         1   \n",
              "\n",
              "   toothed  backbone  breathes  venomous  fins  legs  tail  domestic  catsize  \\\n",
              "0        1         1         1         0     0     4     0         0        1   \n",
              "1        1         1         1         0     0     4     1         0        1   \n",
              "2        1         1         0         0     1     0     1         0        0   \n",
              "3        1         1         1         0     0     4     0         0        1   \n",
              "4        1         1         1         0     0     4     1         0        1   \n",
              "\n",
              "   class_type  \n",
              "0           1  \n",
              "1           1  \n",
              "2           4  \n",
              "3           1  \n",
              "4           1  "
            ],
            "text/html": [
              "\n",
              "  <div id=\"df-8814d56d-3e6f-423c-86cc-9fae1df93561\" class=\"colab-df-container\">\n",
              "    <div>\n",
              "<style scoped>\n",
              "    .dataframe tbody tr th:only-of-type {\n",
              "        vertical-align: middle;\n",
              "    }\n",
              "\n",
              "    .dataframe tbody tr th {\n",
              "        vertical-align: top;\n",
              "    }\n",
              "\n",
              "    .dataframe thead th {\n",
              "        text-align: right;\n",
              "    }\n",
              "</style>\n",
              "<table border=\"1\" class=\"dataframe\">\n",
              "  <thead>\n",
              "    <tr style=\"text-align: right;\">\n",
              "      <th></th>\n",
              "      <th>animal_name</th>\n",
              "      <th>hair</th>\n",
              "      <th>feathers</th>\n",
              "      <th>eggs</th>\n",
              "      <th>milk</th>\n",
              "      <th>airborne</th>\n",
              "      <th>aquatic</th>\n",
              "      <th>predator</th>\n",
              "      <th>toothed</th>\n",
              "      <th>backbone</th>\n",
              "      <th>breathes</th>\n",
              "      <th>venomous</th>\n",
              "      <th>fins</th>\n",
              "      <th>legs</th>\n",
              "      <th>tail</th>\n",
              "      <th>domestic</th>\n",
              "      <th>catsize</th>\n",
              "      <th>class_type</th>\n",
              "    </tr>\n",
              "  </thead>\n",
              "  <tbody>\n",
              "    <tr>\n",
              "      <th>0</th>\n",
              "      <td>aardvark</td>\n",
              "      <td>1</td>\n",
              "      <td>0</td>\n",
              "      <td>0</td>\n",
              "      <td>1</td>\n",
              "      <td>0</td>\n",
              "      <td>0</td>\n",
              "      <td>1</td>\n",
              "      <td>1</td>\n",
              "      <td>1</td>\n",
              "      <td>1</td>\n",
              "      <td>0</td>\n",
              "      <td>0</td>\n",
              "      <td>4</td>\n",
              "      <td>0</td>\n",
              "      <td>0</td>\n",
              "      <td>1</td>\n",
              "      <td>1</td>\n",
              "    </tr>\n",
              "    <tr>\n",
              "      <th>1</th>\n",
              "      <td>antelope</td>\n",
              "      <td>1</td>\n",
              "      <td>0</td>\n",
              "      <td>0</td>\n",
              "      <td>1</td>\n",
              "      <td>0</td>\n",
              "      <td>0</td>\n",
              "      <td>0</td>\n",
              "      <td>1</td>\n",
              "      <td>1</td>\n",
              "      <td>1</td>\n",
              "      <td>0</td>\n",
              "      <td>0</td>\n",
              "      <td>4</td>\n",
              "      <td>1</td>\n",
              "      <td>0</td>\n",
              "      <td>1</td>\n",
              "      <td>1</td>\n",
              "    </tr>\n",
              "    <tr>\n",
              "      <th>2</th>\n",
              "      <td>bass</td>\n",
              "      <td>0</td>\n",
              "      <td>0</td>\n",
              "      <td>1</td>\n",
              "      <td>0</td>\n",
              "      <td>0</td>\n",
              "      <td>1</td>\n",
              "      <td>1</td>\n",
              "      <td>1</td>\n",
              "      <td>1</td>\n",
              "      <td>0</td>\n",
              "      <td>0</td>\n",
              "      <td>1</td>\n",
              "      <td>0</td>\n",
              "      <td>1</td>\n",
              "      <td>0</td>\n",
              "      <td>0</td>\n",
              "      <td>4</td>\n",
              "    </tr>\n",
              "    <tr>\n",
              "      <th>3</th>\n",
              "      <td>bear</td>\n",
              "      <td>1</td>\n",
              "      <td>0</td>\n",
              "      <td>0</td>\n",
              "      <td>1</td>\n",
              "      <td>0</td>\n",
              "      <td>0</td>\n",
              "      <td>1</td>\n",
              "      <td>1</td>\n",
              "      <td>1</td>\n",
              "      <td>1</td>\n",
              "      <td>0</td>\n",
              "      <td>0</td>\n",
              "      <td>4</td>\n",
              "      <td>0</td>\n",
              "      <td>0</td>\n",
              "      <td>1</td>\n",
              "      <td>1</td>\n",
              "    </tr>\n",
              "    <tr>\n",
              "      <th>4</th>\n",
              "      <td>boar</td>\n",
              "      <td>1</td>\n",
              "      <td>0</td>\n",
              "      <td>0</td>\n",
              "      <td>1</td>\n",
              "      <td>0</td>\n",
              "      <td>0</td>\n",
              "      <td>1</td>\n",
              "      <td>1</td>\n",
              "      <td>1</td>\n",
              "      <td>1</td>\n",
              "      <td>0</td>\n",
              "      <td>0</td>\n",
              "      <td>4</td>\n",
              "      <td>1</td>\n",
              "      <td>0</td>\n",
              "      <td>1</td>\n",
              "      <td>1</td>\n",
              "    </tr>\n",
              "  </tbody>\n",
              "</table>\n",
              "</div>\n",
              "    <div class=\"colab-df-buttons\">\n",
              "\n",
              "  <div class=\"colab-df-container\">\n",
              "    <button class=\"colab-df-convert\" onclick=\"convertToInteractive('df-8814d56d-3e6f-423c-86cc-9fae1df93561')\"\n",
              "            title=\"Convert this dataframe to an interactive table.\"\n",
              "            style=\"display:none;\">\n",
              "\n",
              "  <svg xmlns=\"http://www.w3.org/2000/svg\" height=\"24px\" viewBox=\"0 -960 960 960\">\n",
              "    <path d=\"M120-120v-720h720v720H120Zm60-500h600v-160H180v160Zm220 220h160v-160H400v160Zm0 220h160v-160H400v160ZM180-400h160v-160H180v160Zm440 0h160v-160H620v160ZM180-180h160v-160H180v160Zm440 0h160v-160H620v160Z\"/>\n",
              "  </svg>\n",
              "    </button>\n",
              "\n",
              "  <style>\n",
              "    .colab-df-container {\n",
              "      display:flex;\n",
              "      gap: 12px;\n",
              "    }\n",
              "\n",
              "    .colab-df-convert {\n",
              "      background-color: #E8F0FE;\n",
              "      border: none;\n",
              "      border-radius: 50%;\n",
              "      cursor: pointer;\n",
              "      display: none;\n",
              "      fill: #1967D2;\n",
              "      height: 32px;\n",
              "      padding: 0 0 0 0;\n",
              "      width: 32px;\n",
              "    }\n",
              "\n",
              "    .colab-df-convert:hover {\n",
              "      background-color: #E2EBFA;\n",
              "      box-shadow: 0px 1px 2px rgba(60, 64, 67, 0.3), 0px 1px 3px 1px rgba(60, 64, 67, 0.15);\n",
              "      fill: #174EA6;\n",
              "    }\n",
              "\n",
              "    .colab-df-buttons div {\n",
              "      margin-bottom: 4px;\n",
              "    }\n",
              "\n",
              "    [theme=dark] .colab-df-convert {\n",
              "      background-color: #3B4455;\n",
              "      fill: #D2E3FC;\n",
              "    }\n",
              "\n",
              "    [theme=dark] .colab-df-convert:hover {\n",
              "      background-color: #434B5C;\n",
              "      box-shadow: 0px 1px 3px 1px rgba(0, 0, 0, 0.15);\n",
              "      filter: drop-shadow(0px 1px 2px rgba(0, 0, 0, 0.3));\n",
              "      fill: #FFFFFF;\n",
              "    }\n",
              "  </style>\n",
              "\n",
              "    <script>\n",
              "      const buttonEl =\n",
              "        document.querySelector('#df-8814d56d-3e6f-423c-86cc-9fae1df93561 button.colab-df-convert');\n",
              "      buttonEl.style.display =\n",
              "        google.colab.kernel.accessAllowed ? 'block' : 'none';\n",
              "\n",
              "      async function convertToInteractive(key) {\n",
              "        const element = document.querySelector('#df-8814d56d-3e6f-423c-86cc-9fae1df93561');\n",
              "        const dataTable =\n",
              "          await google.colab.kernel.invokeFunction('convertToInteractive',\n",
              "                                                    [key], {});\n",
              "        if (!dataTable) return;\n",
              "\n",
              "        const docLinkHtml = 'Like what you see? Visit the ' +\n",
              "          '<a target=\"_blank\" href=https://colab.research.google.com/notebooks/data_table.ipynb>data table notebook</a>'\n",
              "          + ' to learn more about interactive tables.';\n",
              "        element.innerHTML = '';\n",
              "        dataTable['output_type'] = 'display_data';\n",
              "        await google.colab.output.renderOutput(dataTable, element);\n",
              "        const docLink = document.createElement('div');\n",
              "        docLink.innerHTML = docLinkHtml;\n",
              "        element.appendChild(docLink);\n",
              "      }\n",
              "    </script>\n",
              "  </div>\n",
              "\n",
              "\n",
              "<div id=\"df-7ae59f6b-c120-438d-9fa1-a55227603b27\">\n",
              "  <button class=\"colab-df-quickchart\" onclick=\"quickchart('df-7ae59f6b-c120-438d-9fa1-a55227603b27')\"\n",
              "            title=\"Suggest charts.\"\n",
              "            style=\"display:none;\">\n",
              "\n",
              "<svg xmlns=\"http://www.w3.org/2000/svg\" height=\"24px\"viewBox=\"0 0 24 24\"\n",
              "     width=\"24px\">\n",
              "    <g>\n",
              "        <path d=\"M19 3H5c-1.1 0-2 .9-2 2v14c0 1.1.9 2 2 2h14c1.1 0 2-.9 2-2V5c0-1.1-.9-2-2-2zM9 17H7v-7h2v7zm4 0h-2V7h2v10zm4 0h-2v-4h2v4z\"/>\n",
              "    </g>\n",
              "</svg>\n",
              "  </button>\n",
              "\n",
              "<style>\n",
              "  .colab-df-quickchart {\n",
              "      --bg-color: #E8F0FE;\n",
              "      --fill-color: #1967D2;\n",
              "      --hover-bg-color: #E2EBFA;\n",
              "      --hover-fill-color: #174EA6;\n",
              "      --disabled-fill-color: #AAA;\n",
              "      --disabled-bg-color: #DDD;\n",
              "  }\n",
              "\n",
              "  [theme=dark] .colab-df-quickchart {\n",
              "      --bg-color: #3B4455;\n",
              "      --fill-color: #D2E3FC;\n",
              "      --hover-bg-color: #434B5C;\n",
              "      --hover-fill-color: #FFFFFF;\n",
              "      --disabled-bg-color: #3B4455;\n",
              "      --disabled-fill-color: #666;\n",
              "  }\n",
              "\n",
              "  .colab-df-quickchart {\n",
              "    background-color: var(--bg-color);\n",
              "    border: none;\n",
              "    border-radius: 50%;\n",
              "    cursor: pointer;\n",
              "    display: none;\n",
              "    fill: var(--fill-color);\n",
              "    height: 32px;\n",
              "    padding: 0;\n",
              "    width: 32px;\n",
              "  }\n",
              "\n",
              "  .colab-df-quickchart:hover {\n",
              "    background-color: var(--hover-bg-color);\n",
              "    box-shadow: 0 1px 2px rgba(60, 64, 67, 0.3), 0 1px 3px 1px rgba(60, 64, 67, 0.15);\n",
              "    fill: var(--button-hover-fill-color);\n",
              "  }\n",
              "\n",
              "  .colab-df-quickchart-complete:disabled,\n",
              "  .colab-df-quickchart-complete:disabled:hover {\n",
              "    background-color: var(--disabled-bg-color);\n",
              "    fill: var(--disabled-fill-color);\n",
              "    box-shadow: none;\n",
              "  }\n",
              "\n",
              "  .colab-df-spinner {\n",
              "    border: 2px solid var(--fill-color);\n",
              "    border-color: transparent;\n",
              "    border-bottom-color: var(--fill-color);\n",
              "    animation:\n",
              "      spin 1s steps(1) infinite;\n",
              "  }\n",
              "\n",
              "  @keyframes spin {\n",
              "    0% {\n",
              "      border-color: transparent;\n",
              "      border-bottom-color: var(--fill-color);\n",
              "      border-left-color: var(--fill-color);\n",
              "    }\n",
              "    20% {\n",
              "      border-color: transparent;\n",
              "      border-left-color: var(--fill-color);\n",
              "      border-top-color: var(--fill-color);\n",
              "    }\n",
              "    30% {\n",
              "      border-color: transparent;\n",
              "      border-left-color: var(--fill-color);\n",
              "      border-top-color: var(--fill-color);\n",
              "      border-right-color: var(--fill-color);\n",
              "    }\n",
              "    40% {\n",
              "      border-color: transparent;\n",
              "      border-right-color: var(--fill-color);\n",
              "      border-top-color: var(--fill-color);\n",
              "    }\n",
              "    60% {\n",
              "      border-color: transparent;\n",
              "      border-right-color: var(--fill-color);\n",
              "    }\n",
              "    80% {\n",
              "      border-color: transparent;\n",
              "      border-right-color: var(--fill-color);\n",
              "      border-bottom-color: var(--fill-color);\n",
              "    }\n",
              "    90% {\n",
              "      border-color: transparent;\n",
              "      border-bottom-color: var(--fill-color);\n",
              "    }\n",
              "  }\n",
              "</style>\n",
              "\n",
              "  <script>\n",
              "    async function quickchart(key) {\n",
              "      const quickchartButtonEl =\n",
              "        document.querySelector('#' + key + ' button');\n",
              "      quickchartButtonEl.disabled = true;  // To prevent multiple clicks.\n",
              "      quickchartButtonEl.classList.add('colab-df-spinner');\n",
              "      try {\n",
              "        const charts = await google.colab.kernel.invokeFunction(\n",
              "            'suggestCharts', [key], {});\n",
              "      } catch (error) {\n",
              "        console.error('Error during call to suggestCharts:', error);\n",
              "      }\n",
              "      quickchartButtonEl.classList.remove('colab-df-spinner');\n",
              "      quickchartButtonEl.classList.add('colab-df-quickchart-complete');\n",
              "    }\n",
              "    (() => {\n",
              "      let quickchartButtonEl =\n",
              "        document.querySelector('#df-7ae59f6b-c120-438d-9fa1-a55227603b27 button');\n",
              "      quickchartButtonEl.style.display =\n",
              "        google.colab.kernel.accessAllowed ? 'block' : 'none';\n",
              "    })();\n",
              "  </script>\n",
              "</div>\n",
              "    </div>\n",
              "  </div>\n"
            ]
          },
          "metadata": {},
          "execution_count": 16
        }
      ]
    },
    {
      "cell_type": "code",
      "source": [
        "df['class_type'].value_counts()"
      ],
      "metadata": {
        "colab": {
          "base_uri": "https://localhost:8080/"
        },
        "id": "qwAaetlKGWU5",
        "outputId": "087dc962-7af6-4212-a9b0-1f5827cc4167"
      },
      "execution_count": null,
      "outputs": [
        {
          "output_type": "execute_result",
          "data": {
            "text/plain": [
              "1    41\n",
              "2    20\n",
              "4    13\n",
              "7    10\n",
              "6     8\n",
              "3     5\n",
              "5     4\n",
              "Name: class_type, dtype: int64"
            ]
          },
          "metadata": {},
          "execution_count": 17
        }
      ]
    },
    {
      "cell_type": "code",
      "source": [
        "y = df['class_type']\n",
        "X = df.drop(['animal_name','class_type'], axis=1)\n",
        "X_train, X_test, y_train, y_test = train_test_split(X, y, test_size=0.2, random_state=42)"
      ],
      "metadata": {
        "id": "h-db2pEE11tM"
      },
      "execution_count": null,
      "outputs": []
    },
    {
      "cell_type": "code",
      "source": [
        "with open('./database/zoo.names') as f:\n",
        "  print(f.read())"
      ],
      "metadata": {
        "colab": {
          "base_uri": "https://localhost:8080/"
        },
        "id": "_PMrYjtg1E23",
        "outputId": "cd0fa6cb-43dd-4a99-d675-63890bbaf43b"
      },
      "execution_count": null,
      "outputs": [
        {
          "output_type": "stream",
          "name": "stdout",
          "text": [
            "1. Title: Zoo database\n",
            "\n",
            "2. Source Information\n",
            "   -- Creator: Richard Forsyth\n",
            "   -- Donor: Richard S. Forsyth \n",
            "             8 Grosvenor Avenue\n",
            "             Mapperley Park\n",
            "             Nottingham NG3 5DX\n",
            "             0602-621676\n",
            "   -- Date: 5/15/1990\n",
            " \n",
            "3. Past Usage:\n",
            "   -- None known other than what is shown in Forsyth's PC/BEAGLE User's Guide.\n",
            "\n",
            "4. Relevant Information:\n",
            "   -- A simple database containing 17 Boolean-valued attributes.  The \"type\"\n",
            "      attribute appears to be the class attribute.  Here is a breakdown of\n",
            "      which animals are in which type: (I find it unusual that there are\n",
            "      2 instances of \"frog\" and one of \"girl\"!)\n",
            "\n",
            "      Class# Set of animals:\n",
            "      ====== ===============================================================\n",
            "           1 (41) aardvark, antelope, bear, boar, buffalo, calf,\n",
            "                  cavy, cheetah, deer, dolphin, elephant,\n",
            "                  fruitbat, giraffe, girl, goat, gorilla, hamster,\n",
            "                  hare, leopard, lion, lynx, mink, mole, mongoose,\n",
            "                  opossum, oryx, platypus, polecat, pony,\n",
            "                  porpoise, puma, pussycat, raccoon, reindeer,\n",
            "                  seal, sealion, squirrel, vampire, vole, wallaby,wolf\n",
            "           2 (20) chicken, crow, dove, duck, flamingo, gull, hawk,\n",
            "                  kiwi, lark, ostrich, parakeet, penguin, pheasant,\n",
            "                  rhea, skimmer, skua, sparrow, swan, vulture, wren\n",
            "           3 (5)  pitviper, seasnake, slowworm, tortoise, tuatara \n",
            "           4 (13) bass, carp, catfish, chub, dogfish, haddock,\n",
            "                  herring, pike, piranha, seahorse, sole, stingray, tuna\n",
            "           5 (4)  frog, frog, newt, toad \n",
            "           6 (8)  flea, gnat, honeybee, housefly, ladybird, moth, termite, wasp\n",
            "           7 (10) clam, crab, crayfish, lobster, octopus,\n",
            "                  scorpion, seawasp, slug, starfish, worm\n",
            "\n",
            "5. Number of Instances: 101\n",
            "\n",
            "6. Number of Attributes: 18 (animal name, 15 Boolean attributes, 2 numerics)\n",
            "\n",
            "7. Attribute Information: (name of attribute and type of value domain)\n",
            "   1. animal name:      Unique for each instance\n",
            "   2. hair\t\tBoolean\n",
            "   3. feathers\t\tBoolean\n",
            "   4. eggs\t\tBoolean\n",
            "   5. milk\t\tBoolean\n",
            "   6. airborne\t\tBoolean\n",
            "   7. aquatic\t\tBoolean\n",
            "   8. predator\t\tBoolean\n",
            "   9. toothed\t\tBoolean\n",
            "  10. backbone\t\tBoolean\n",
            "  11. breathes\t\tBoolean\n",
            "  12. venomous\t\tBoolean\n",
            "  13. fins\t\tBoolean\n",
            "  14. legs\t\tNumeric (set of values: {0,2,4,5,6,8})\n",
            "  15. tail\t\tBoolean\n",
            "  16. domestic\t\tBoolean\n",
            "  17. catsize\t\tBoolean\n",
            "  18. type\t\tNumeric (integer values in range [1,7])\n",
            "\n",
            "8. Missing Attribute Values: None\n",
            "\n",
            "9. Class Distribution: Given above\n",
            "   \n",
            "\n"
          ]
        }
      ]
    }
  ]
}